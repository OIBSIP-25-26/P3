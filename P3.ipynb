{
  "nbformat": 4,
  "nbformat_minor": 0,
  "metadata": {
    "colab": {
      "provenance": [],
      "authorship_tag": "ABX9TyPAh7TzaFHjh0bAPdM/BOU0",
      "include_colab_link": true
    },
    "kernelspec": {
      "name": "python3",
      "display_name": "Python 3"
    },
    "language_info": {
      "name": "python"
    }
  },
  "cells": [
    {
      "cell_type": "markdown",
      "metadata": {
        "id": "view-in-github",
        "colab_type": "text"
      },
      "source": [
        "<a href=\"https://colab.research.google.com/github/OIBSIP-25-26/P3/blob/main/P3.ipynb\" target=\"_parent\"><img src=\"https://colab.research.google.com/assets/colab-badge.svg\" alt=\"Open In Colab\"/></a>"
      ]
    },
    {
      "cell_type": "code",
      "execution_count": 1,
      "metadata": {
        "colab": {
          "base_uri": "https://localhost:8080/"
        },
        "id": "x6vPYj8T4d8b",
        "outputId": "37f70e3f-1002-464d-dc0c-713df00f59b4"
      },
      "outputs": [
        {
          "output_type": "stream",
          "name": "stdout",
          "text": [
            "=== Classification report ===\n",
            "              precision    recall  f1-score   support\n",
            "\n",
            "    negative       1.00      1.00      1.00        60\n",
            "     neutral       1.00      1.00      1.00        30\n",
            "    positive       1.00      1.00      1.00        60\n",
            "\n",
            "    accuracy                           1.00       150\n",
            "   macro avg       1.00      1.00      1.00       150\n",
            "weighted avg       1.00      1.00      1.00       150\n",
            "\n",
            "Model and vectorizer saved to sentiment_output\n"
          ]
        }
      ],
      "source": [
        "\"\"\"\n",
        "sentiment_analysis.py\n",
        "Simple sentiment classifier using TF-IDF + MultinomialNB on synthetic review data.\n",
        "Run: python sentiment_analysis.py\n",
        "Generates: model saved (joblib), classification report printed.\n",
        "\"\"\"\n",
        "import pandas as pd\n",
        "import numpy as np\n",
        "import os\n",
        "from sklearn.feature_extraction.text import TfidfVectorizer\n",
        "from sklearn.model_selection import train_test_split\n",
        "from sklearn.naive_bayes import MultinomialNB\n",
        "from sklearn.metrics import classification_report, confusion_matrix\n",
        "import joblib\n",
        "\n",
        "OUT_DIR = \"sentiment_output\"\n",
        "os.makedirs(OUT_DIR, exist_ok=True)\n",
        "np.random.seed(0)\n",
        "\n",
        "# Synthetic dataset: short reviews with labels\n",
        "positive = [\n",
        "    \"Great product, loved it\",\n",
        "    \"Excellent service and fast delivery\",\n",
        "    \"Highly recommend this. Very satisfied\",\n",
        "    \"Amazing quality and price\",\n",
        "    \"Superb, will buy again\"\n",
        "]\n",
        "negative = [\n",
        "    \"Terrible experience, broke after a day\",\n",
        "    \"Very disappointed with the product\",\n",
        "    \"Won't buy again, low quality\",\n",
        "    \"Customer service was rude\",\n",
        "    \"Bad, not as described\"\n",
        "]\n",
        "neutral = [\n",
        "    \"Product is okay, nothing special\",\n",
        "    \"Average quality, expected more\",\n",
        "    \"It's fine for the price\",\n",
        "    \"Neutral feelings about this item\",\n",
        "    \"Neither good nor bad\"\n",
        "]\n",
        "\n",
        "texts = (positive * 60) + (negative * 60) + (neutral * 30)\n",
        "labels = ([\"positive\"] * 300) + ([\"negative\"] * 300) + ([\"neutral\"] * 150)\n",
        "df = pd.DataFrame({\"text\": texts, \"label\": labels})\n",
        "df = df.sample(frac=1, random_state=42).reset_index(drop=True)\n",
        "df.to_csv(os.path.join(OUT_DIR, \"sentiment_synthetic.csv\"), index=False)\n",
        "\n",
        "# If you have a CSV: uncomment & set path\n",
        "# df = pd.read_csv(\"sentiment.csv\")\n",
        "\n",
        "X_train, X_test, y_train, y_test = train_test_split(df[\"text\"], df[\"label\"], test_size=0.2, random_state=42, stratify=df[\"label\"])\n",
        "\n",
        "vect = TfidfVectorizer(ngram_range=(1,2), max_features=2000)\n",
        "Xtr = vect.fit_transform(X_train)\n",
        "Xte = vect.transform(X_test)\n",
        "\n",
        "model = MultinomialNB()\n",
        "model.fit(Xtr, y_train)\n",
        "\n",
        "y_pred = model.predict(Xte)\n",
        "print(\"=== Classification report ===\")\n",
        "print(classification_report(y_test, y_pred))\n",
        "\n",
        "# Save vectorizer & model\n",
        "joblib.dump(vect, os.path.join(OUT_DIR, \"tfidf_vectorizer.joblib\"))\n",
        "joblib.dump(model, os.path.join(OUT_DIR, \"sentiment_nb_model.joblib\"))\n",
        "\n",
        "print(f\"Model and vectorizer saved to {OUT_DIR}\")\n"
      ]
    }
  ]
}